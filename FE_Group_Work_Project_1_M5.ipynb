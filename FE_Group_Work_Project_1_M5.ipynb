{
  "nbformat": 4,
  "nbformat_minor": 0,
  "metadata": {
    "colab": {
      "provenance": []
    },
    "kernelspec": {
      "name": "python3",
      "display_name": "Python 3"
    },
    "language_info": {
      "name": "python"
    }
  },
  "cells": [
    {
      "cell_type": "code",
      "execution_count": 2,
      "metadata": {
        "colab": {
          "base_uri": "https://localhost:8080/",
          "height": 430
        },
        "id": "547kdPpRZa07",
        "outputId": "024ccc44-f553-46ba-9216-2cf8698a7d54"
      },
      "outputs": [
        {
          "output_type": "display_data",
          "data": {
            "text/plain": [
              "<Figure size 640x480 with 1 Axes>"
            ],
            "image/png": "[encoded data removed]"
          },
          "metadata": {}
        }
      ],
      "source": [
        "# Python simulation\n",
        "import numpy as np\n",
        "import matplotlib.pyplot as plt\n",
        "from sklearn.linear_model import LinearRegression\n",
        "np.random.seed(42)\n",
        "X = np.random.uniform(0, 10, 50).reshape(-1,1)\n",
        "y = 2 * X.flatten() + 1 + np.random.normal(0, 1, 50)\n",
        "model_clean = LinearRegression().fit(X, y)\n",
        "X_out = np.append(X, [[20], [22]], axis=0)\n",
        "y_out = np.append(y, [60, -20])\n",
        "model_out = LinearRegression().fit(X_out, y_out)\n",
        "plt.scatter(X, y, label=\"Clean data\")\n",
        "plt.scatter(X_out[-2:], y_out[-2:], color='red', label=\"Outliers\")\n",
        "plt.plot(X, model_clean.predict(X), label=f\"Clean fit:y={model_clean.coef_[0]:.2f}x+{model_clean.intercept_:.2f}\")\n",
        "plt.plot(X_out, model_out.predict(X_out), linestyle='--', label=f\"With outliers:y={model_out.coef_[0]:.2f}x+{model_out.intercept_:.2f}\")\n",
        "plt.legend()\n",
        "plt.show()"
      ]
    },
    {
      "cell_type": "code",
      "source": [
        "# Python simulation\n",
        "import pandas as pd\n",
        "import statsmodels.api as sm\n",
        "from itertools import combinations\n",
        "# Load data\n",
        "data = pd.read_csv('FE-GWP1_model_selecxtion_1.csv')\n",
        "df = pd.DataFrame(data)\n",
        "X = df.drop(columns='Y')\n",
        "y = df['Y']\n",
        "# Forward Selection\n",
        "def forward_selection(X, y):\n",
        "  remaining = list(X.columns)\n",
        "  selected = []\n",
        "  current_score, best_new_score = 0, 0\n",
        "  while remaining:\n",
        "    scores_with_candidates = []\n",
        "    for candidate in remaining:\n",
        "      model = sm.OLS(y, sm.add_constant(df[selected + [candidate]])).fit()\n",
        "      scores_with_candidates.append((model.rsquared_adj, candidate))\n",
        "    scores_with_candidates.sort(reverse=True)\n",
        "    best_new_score, best_candidate = scores_with_candidates[0]\n",
        "    if best_new_score > current_score:\n",
        "      remaining.remove(best_candidate)\n",
        "      selected.append(best_candidate)\n",
        "      current_score = best_new_score\n",
        "    else:\n",
        "      break\n",
        "  return selected, current_score\n",
        "# Backward Elimination using BIC\n",
        "def backward_elimination(X, y):\n",
        "  selected = list(X.columns)\n",
        "  current_model = sm.OLS(y, sm.add_constant(X[selected])).fit()\n",
        "  current_bic = current_model.bic\n",
        "  while True:\n",
        "    bics = []\n",
        "    for candidate in selected:\n",
        "      reduced = selected.copy()\n",
        "      reduced.remove(candidate)\n",
        "      model = sm.OLS(y, sm.add_constant(X[reduced])).fit()\n",
        "      bics.append((model.bic, candidate))\n",
        "    min_bic, worst = min(bics)\n",
        "    if min_bic < current_bic:\n",
        "      selected.remove(worst)\n",
        "      current_bic = min_bic\n",
        "    else:\n",
        "      break\n",
        "  return selected, current_bic\n",
        "# Run selections\n",
        "forward_vars, adj_r2 = forward_selection(X, y)\n",
        "backward_vars, final_bic = backward_elimination(X, y)\n",
        "print(\"Forward Selection (Adj. R²):\", forward_vars, \"| Score:\", round(adj_r2, 4))\n",
        "print(\"Backward Elimination (BIC):\", backward_vars, \"| BIC:\", round(final_bic, 2))"
      ],
      "metadata": {
        "colab": {
          "base_uri": "https://localhost:8080/"
        },
        "id": "6-YsQ-ANaTLB",
        "outputId": "74987e35-a7cc-4501-a87a-34e8b0170024"
      },
      "execution_count": 2,
      "outputs": [
        {
          "output_type": "stream",
          "name": "stdout",
          "text": [
            "Forward Selection (Adj. R²): ['X4', 'X3', 'X2', 'X5'] | Score: 0.634\n",
            "Backward Elimination (BIC): ['X2', 'X3', 'X4', 'X5'] | BIC: 273.64\n"
          ]
        }
      ]
    },
    {
      "cell_type": "code",
      "source": [
        "# Python simulation:\n",
        "import numpy as np\n",
        "import pandas as pd\n",
        "import statsmodels.api as sm\n",
        "# Set seed for reproducibility\n",
        "np.random.seed(42)\n",
        "# Create time, X, and error terms\n",
        "t = np.arange(1, 21)\n",
        "X = np.random.normal(0, 1, 20)\n",
        "error = np.random.normal(0, 0.5, 20)\n",
        "# Create Y with a slope change at t = 10\n",
        "Y = np.where(t <= 10, 1.0 * X, 2.0 * X) + error\n",
        "# Create dummy variable: 0 for t ≤ 10, 1 for t > 10\n",
        "D = (t > 10).astype(int)\n",
        "# Interaction term: dummy × X\n",
        "X_interaction = D * X\n",
        "# Build regression data\n",
        "df = pd.DataFrame({'Y': Y, 'X': X, 'X_interaction': X_interaction})\n",
        "X_model = sm.add_constant(df[['X', 'X_interaction']])\n",
        "model = sm.OLS(df['Y'], X_model).fit()\n",
        "# Output the regression summary\n",
        "print(model.summary())"
      ],
      "metadata": {
        "colab": {
          "base_uri": "https://localhost:8080/"
        },
        "id": "ZteXlR00bdxe",
        "outputId": "f5b2de90-fb72-4fef-fa2b-97e90b62c8af"
      },
      "execution_count": 1,
      "outputs": [
        {
          "output_type": "stream",
          "name": "stdout",
          "text": [
            "                            OLS Regression Results                            \n",
            "==============================================================================\n",
            "Dep. Variable:                      Y   R-squared:                       0.906\n",
            "Model:                            OLS   Adj. R-squared:                  0.895\n",
            "Method:                 Least Squares   F-statistic:                     82.16\n",
            "Date:                Sun, 15 Jun 2025   Prob (F-statistic):           1.83e-09\n",
            "Time:                        21:38:37   Log-Likelihood:                -13.083\n",
            "No. Observations:                  20   AIC:                             32.17\n",
            "Df Residuals:                      17   BIC:                             35.15\n",
            "Df Model:                           2                                         \n",
            "Covariance Type:            nonrobust                                         \n",
            "=================================================================================\n",
            "                    coef    std err          t      P>|t|      [0.025      0.975]\n",
            "---------------------------------------------------------------------------------\n",
            "const            -0.1292      0.149     -0.869      0.397      -0.443       0.185\n",
            "X                 0.8873      0.219      4.057      0.001       0.426       1.349\n",
            "X_interaction     1.0583      0.318      3.324      0.004       0.386       1.730\n",
            "==============================================================================\n",
            "Omnibus:                        1.143   Durbin-Watson:                   2.142\n",
            "Prob(Omnibus):                  0.565   Jarque-Bera (JB):                0.678\n",
            "Skew:                           0.445   Prob(JB):                        0.713\n",
            "Kurtosis:                       2.854   Cond. No.                         4.28\n",
            "==============================================================================\n",
            "\n",
            "Notes:\n",
            "[1] Standard Errors assume that the covariance matrix of the errors is correctly specified.\n"
          ]
        }
      ]
    }
  ]
}